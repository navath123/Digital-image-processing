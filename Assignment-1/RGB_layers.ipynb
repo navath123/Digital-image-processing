{
 "cells": [
  {
   "cell_type": "code",
   "execution_count": 2,
   "metadata": {},
   "outputs": [],
   "source": [
    "import cv2 as cv\n",
    "import numpy as np"
   ]
  },
  {
   "cell_type": "code",
   "execution_count": 3,
   "metadata": {},
   "outputs": [],
   "source": [
    "\n",
    "# Load the image\n",
    "image = cv.imread('lenna.jpeg')\n",
    "\n",
    "# Split the image into its RGB components\n",
    "blue_channel, green_channel, red_channel = cv.split(image)\n",
    "\n",
    "# Create images for each color channel\n",
    "# Red channel image\n",
    "red_image = np.zeros_like(image)\n",
    "red_image[:, :, 2] = red_channel\n",
    "\n",
    "# Green channel image\n",
    "green_image = np.zeros_like(image)\n",
    "green_image[:, :, 1] = green_channel\n",
    "\n",
    "# Blue channel image\n",
    "blue_image = np.zeros_like(image)\n",
    "blue_image[:, :, 0] = blue_channel\n",
    "\n",
    "# Save the images or display them\n",
    "cv.imwrite('red_image.jpg', red_image)\n",
    "cv.imwrite('green_image.jpg', green_image)\n",
    "cv.imwrite('blue_image.jpg', blue_image)\n",
    "\n",
    "# Display the images\n",
    "cv.imshow('Red Channel', red_image)\n",
    "cv.imshow('Green Channel', green_image)\n",
    "cv.imshow('Blue Channel', blue_image)\n",
    "\n",
    "cv.waitKey(0)\n",
    "cv.destroyAllWindows()"
   ]
  },
  {
   "cell_type": "code",
   "execution_count": null,
   "metadata": {},
   "outputs": [],
   "source": []
  }
 ],
 "metadata": {
  "kernelspec": {
   "display_name": "Python 3",
   "language": "python",
   "name": "python3"
  },
  "language_info": {
   "codemirror_mode": {
    "name": "ipython",
    "version": 3
   },
   "file_extension": ".py",
   "mimetype": "text/x-python",
   "name": "python",
   "nbconvert_exporter": "python",
   "pygments_lexer": "ipython3",
   "version": "3.11.4"
  }
 },
 "nbformat": 4,
 "nbformat_minor": 2
}
