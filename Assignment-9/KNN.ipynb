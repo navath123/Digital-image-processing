{
 "cells": [
  {
   "cell_type": "code",
   "execution_count": 11,
   "metadata": {},
   "outputs": [],
   "source": [
    "import numpy as np\n",
    "import matplotlib.pyplot as plt\n",
    "import pandas as pd \n",
    "import os\n",
    "import cv2"
   ]
  },
  {
   "cell_type": "code",
   "execution_count": 12,
   "metadata": {},
   "outputs": [],
   "source": [
    "resized_img_height = 128\n",
    "resized_img_width = 128\n",
    "K_value = 13"
   ]
  },
  {
   "cell_type": "code",
   "execution_count": 13,
   "metadata": {},
   "outputs": [],
   "source": [
    "from sklearn.model_selection import train_test_split\n",
    "\n",
    "def divide_dataset(x, y):\n",
    "    x_train,x_test,y_train,y_test = train_test_split(x,y,random_state=0)\n",
    "    \n",
    "    return x_train, x_test, y_train, y_test"
   ]
  },
  {
   "cell_type": "code",
   "execution_count": 14,
   "metadata": {},
   "outputs": [],
   "source": [
    "\n",
    "from sklearn.preprocessing import MinMaxScaler\n",
    "\n",
    "def normalise_features(x_train, x_test):\n",
    "    scaler = MinMaxScaler()\n",
    "    \n",
    "    x_train = scaler.fit_transform(x_train)\n",
    "    x_test = scaler.transform(x_test)\n",
    "    print(\"X_train:\",len(x_train),\"X_test:\",len(x_test),\"normalised\")\n",
    "    \n",
    "    return x_train, x_test"
   ]
  },
  {
   "cell_type": "code",
   "execution_count": 15,
   "metadata": {},
   "outputs": [],
   "source": [
    "from sklearn.preprocessing import LabelEncoder\n",
    "\n",
    "def encode_target(y_train, y_test):\n",
    "    label_encoder = LabelEncoder()\n",
    "\n",
    "    y_train = label_encoder.fit_transform(y_train)\n",
    "    y_test = label_encoder.transform(y_test)\n",
    "    print(\"Y_train:\",len(y_train),\"Y_test:\",len(y_test),\"encoded\")\n",
    "    \n",
    "    return y_train, y_test, label_encoder\n"
   ]
  },
  {
   "cell_type": "code",
   "execution_count": 16,
   "metadata": {},
   "outputs": [],
   "source": [
    "from sklearn.neighbors import KNeighborsClassifier\n",
    "def KNN_model(x_train, y_train, metric=\"euclidean\"):\n",
    "    model = KNeighborsClassifier(n_neighbors=K_value,metric= metric)\n",
    "    model.fit(x_train,y_train) \n",
    "    print(\"KNN Model with\",metric,\"metric is ready\")\n",
    "    return model"
   ]
  },
  {
   "cell_type": "code",
   "execution_count": 17,
   "metadata": {},
   "outputs": [],
   "source": [
    "from sklearn.metrics import accuracy_score\n",
    "from sklearn.metrics import confusion_matrix\n",
    "from sklearn import metrics\n",
    "\n",
    "def test_model(model, x_test, y_test):\n",
    "    y_pred = model.predict(x_test)\n",
    "    print(\"Predicted values:\",y_pred,sep=\"\\n\")\n",
    "    print(\"Test values\",y_test,sep=\"\\n\")\n",
    "    \n",
    "    print(\"The accuracy of the model is \",accuracy_score(y_pred,y_test)*100,\"%\")\n",
    "    \n",
    "    cm=confusion_matrix(y_pred,y_test)\n",
    "    print(\"Confusion Matrix:\",cm)\n",
    "    \n",
    "    print(\"Metrics\",metrics.classification_report(y_test,y_pred),sep=\"\\n\")"
   ]
  },
  {
   "cell_type": "code",
   "execution_count": 18,
   "metadata": {},
   "outputs": [
    {
     "name": "stdout",
     "output_type": "stream",
     "text": [
      "Images read: 100\n",
      "Dataframe created\n"
     ]
    }
   ],
   "source": [
    "images = []\n",
    "labels = []\n",
    "count = 0\n",
    "for filename in os.listdir('data/non-vehicles'):\n",
    "    img = cv2.imread(os.path.join('data/non-vehicles',filename), cv2.IMREAD_COLOR)\n",
    "    if img is not None:\n",
    "        img = cv2.resize(img, (resized_img_height, resized_img_width))\n",
    "        images.append(img.flatten())\n",
    "        labels.append(\"vehicle\")\n",
    "        count+=1\n",
    "    if count==50:\n",
    "        break\n",
    "        \n",
    "count = 0        \n",
    "for filename in os.listdir('data/non-vehicles'):\n",
    "    img = cv2.imread(os.path.join('data/non-vehicles',filename), cv2.IMREAD_COLOR)\n",
    "    if img is not None:\n",
    "        img = cv2.resize(img, (resized_img_height, resized_img_width))\n",
    "        images.append(img.flatten())\n",
    "        labels.append(\"non-vehicle\")\n",
    "        count+=1\n",
    "    if count==50:\n",
    "        break\n",
    "        \n",
    "images = np.array(images)\n",
    "\n",
    "df = pd.DataFrame(images)\n",
    "df['Target'] = labels\n",
    "\n",
    "print(\"Images read:\",str(len(images))+\"\\nDataframe created\")"
   ]
  },
  {
   "cell_type": "code",
   "execution_count": 19,
   "metadata": {},
   "outputs": [
    {
     "name": "stdout",
     "output_type": "stream",
     "text": [
      "      0    1    2    3    4    5    6    7    8    9  ...  49143  49144  \\\n",
      "0   157  145  128  163  146  124  176  149  116  184  ...     93     90   \n",
      "1   109  113  121  103  107  113   92   95   98   88  ...     34     55   \n",
      "2   108  115  117  115  123  124  130  139  139  137  ...     44     62   \n",
      "3    94  121  142   93  121  142   92  120  143   91  ...     86     79   \n",
      "4    73   85   98   70   82   95   64   76   90   60  ...     84     77   \n",
      "..  ...  ...  ...  ...  ...  ...  ...  ...  ...  ...  ...    ...    ...   \n",
      "95   37   51   56   37   51   55   38   50   53   38  ...     91     83   \n",
      "96   73   92  103   73   92  103   74   92  103   73  ...     92     85   \n",
      "97   76   80   75   77   81   76   78   82   77   78  ...     98     85   \n",
      "98   39   44   43   42   47   46   49   54   53   56  ...     96     83   \n",
      "99   27   37   51   29   40   54   34   45   60   37  ...     87     81   \n",
      "\n",
      "    49145  49146  49147  49148  49149  49150  49151       Target  \n",
      "0      92     90     88     91     89     87     91      vehicle  \n",
      "1      63     34     56     64     34     56     64      vehicle  \n",
      "2      73     44     63     74     44     64     75      vehicle  \n",
      "3      85     87     80     86     88     80     87      vehicle  \n",
      "4      80     85     78     81     85     78     81      vehicle  \n",
      "..    ...    ...    ...    ...    ...    ...    ...          ...  \n",
      "95     90     92     84     91     92     84     91  non-vehicle  \n",
      "96     88     93     86     89     94     87     90  non-vehicle  \n",
      "97     87     99     86     88     99     86     88  non-vehicle  \n",
      "98     85     97     84     86     98     85     87  non-vehicle  \n",
      "99     86     88     82     87     89     83     88  non-vehicle  \n",
      "\n",
      "[100 rows x 49153 columns]\n"
     ]
    }
   ],
   "source": [
    "print(df)"
   ]
  },
  {
   "cell_type": "code",
   "execution_count": 20,
   "metadata": {},
   "outputs": [
    {
     "data": {
      "image/png": "[encoded data removed]",
      "text/plain": [
       "<Figure size 640x480 with 1 Axes>"
      ]
     },
     "metadata": {},
     "output_type": "display_data"
    }
   ],
   "source": [
    "categories = list(set(df['Target'].values))\n",
    "plt.bar(categories,df['Target'].value_counts())\n",
    "plt.title('Type vs Quantity')\n",
    "plt.xlabel('Type Name')\n",
    "plt.ylabel('Quantity')\n",
    "plt.show()"
   ]
  },
  {
   "cell_type": "code",
   "execution_count": 21,
   "metadata": {},
   "outputs": [],
   "source": [
    "x = df.iloc[:,0:-1].values\n",
    "y = df.iloc[:,-1].values"
   ]
  },
  {
   "cell_type": "code",
   "execution_count": 22,
   "metadata": {},
   "outputs": [],
   "source": [
    "x_train, x_test, y_train, y_test = divide_dataset(x, y)"
   ]
  },
  {
   "cell_type": "code",
   "execution_count": 23,
   "metadata": {},
   "outputs": [
    {
     "name": "stdout",
     "output_type": "stream",
     "text": [
      "X_train: 75 X_test: 25 normalised\n",
      "Y_train: 75 Y_test: 25 encoded\n"
     ]
    }
   ],
   "source": [
    "x_train, x_test = normalise_features(x_train, x_test)\n",
    "y_train, y_test, _ = encode_target(y_train, y_test)"
   ]
  },
  {
   "cell_type": "code",
   "execution_count": 24,
   "metadata": {},
   "outputs": [
    {
     "name": "stdout",
     "output_type": "stream",
     "text": [
      "KNN Model with euclidean metric is ready\n",
      "Predicted values:\n",
      "[1 1 0 0 1 0 0 0 0 1 0 1 0 0 0 0 0 0 0 0 0 0 0 0 1]\n",
      "Test values\n",
      "[1 0 1 0 0 0 1 0 0 0 0 0 0 1 1 1 1 1 1 1 1 0 1 0 1]\n",
      "The accuracy of the model is  40.0 %\n",
      "Confusion Matrix: [[ 8 11]\n",
      " [ 4  2]]\n",
      "Metrics\n",
      "              precision    recall  f1-score   support\n",
      "\n",
      "           0       0.42      0.67      0.52        12\n",
      "           1       0.33      0.15      0.21        13\n",
      "\n",
      "    accuracy                           0.40        25\n",
      "   macro avg       0.38      0.41      0.36        25\n",
      "weighted avg       0.38      0.40      0.36        25\n",
      "\n"
     ]
    }
   ],
   "source": [
    "model_E = KNN_model(x_train, y_train, \"euclidean\")\n",
    "test_model(model_E, x_test, y_test)"
   ]
  },
  {
   "cell_type": "code",
   "execution_count": 25,
   "metadata": {},
   "outputs": [
    {
     "name": "stdout",
     "output_type": "stream",
     "text": [
      "KNN Model with manhattan metric is ready\n",
      "Predicted values:\n",
      "[1 1 0 0 1 0 0 0 0 1 0 1 0 0 0 0 1 0 0 0 0 0 0 0 1]\n",
      "Test values\n",
      "[1 0 1 0 0 0 1 0 0 0 0 0 0 1 1 1 1 1 1 1 1 0 1 0 1]\n",
      "The accuracy of the model is  44.0 %\n",
      "Confusion Matrix: [[ 8 10]\n",
      " [ 4  3]]\n",
      "Metrics\n",
      "              precision    recall  f1-score   support\n",
      "\n",
      "           0       0.44      0.67      0.53        12\n",
      "           1       0.43      0.23      0.30        13\n",
      "\n",
      "    accuracy                           0.44        25\n",
      "   macro avg       0.44      0.45      0.42        25\n",
      "weighted avg       0.44      0.44      0.41        25\n",
      "\n"
     ]
    }
   ],
   "source": [
    "model_M = KNN_model(x_train, y_train, \"manhattan\")\n",
    "test_model(model_M, x_test, y_test)"
   ]
  },
  {
   "cell_type": "code",
   "execution_count": 26,
   "metadata": {},
   "outputs": [
    {
     "name": "stdout",
     "output_type": "stream",
     "text": [
      "KNN Model with minkowski metric is ready\n",
      "Predicted values:\n",
      "[1 1 0 0 1 0 0 0 0 1 0 1 0 0 0 0 0 0 0 0 0 0 0 0 1]\n",
      "Test values\n",
      "[1 0 1 0 0 0 1 0 0 0 0 0 0 1 1 1 1 1 1 1 1 0 1 0 1]\n",
      "The accuracy of the model is  40.0 %\n",
      "Confusion Matrix: [[ 8 11]\n",
      " [ 4  2]]\n",
      "Metrics\n",
      "              precision    recall  f1-score   support\n",
      "\n",
      "           0       0.42      0.67      0.52        12\n",
      "           1       0.33      0.15      0.21        13\n",
      "\n",
      "    accuracy                           0.40        25\n",
      "   macro avg       0.38      0.41      0.36        25\n",
      "weighted avg       0.38      0.40      0.36        25\n",
      "\n"
     ]
    }
   ],
   "source": [
    "model_M = KNN_model(x_train, y_train, \"minkowski\")\n",
    "test_model(model_M, x_test, y_test)"
   ]
  },
  {
   "cell_type": "code",
   "execution_count": 27,
   "metadata": {},
   "outputs": [
    {
     "name": "stdout",
     "output_type": "stream",
     "text": [
      "LBP Feature extraction complete: 100 images processed\n"
     ]
    }
   ],
   "source": [
    "from skimage.feature import local_binary_pattern\n",
    "import numpy as np\n",
    "\n",
    "# Function to extract LBP features\n",
    "def extract_lbp_features(image):\n",
    "    radius_list = [1, 3, 5]  # Test with different radius values\n",
    "    hist_list = []\n",
    "\n",
    "    for radius in radius_list:\n",
    "        n_points = 8 * radius\n",
    "        lbp = local_binary_pattern(image, n_points, radius, method='uniform')\n",
    "        hist, _ = np.histogram(lbp.ravel(), bins=np.arange(0, n_points + 3), range=(0, n_points + 2))\n",
    "        hist = hist.astype(\"float\")\n",
    "        hist /= (hist.sum() + 1e-6)  # Normalize histogram\n",
    "        hist_list.append(hist)\n",
    "    \n",
    "    return np.concatenate(hist_list)\n",
    "\n",
    "lbp_features = []\n",
    "\n",
    "for img in images:\n",
    "    \n",
    "    gray_image = cv2.cvtColor(img.reshape(resized_img_height, resized_img_width,3), cv2.COLOR_BGR2GRAY)\n",
    "    features = extract_lbp_features(gray_image)\n",
    "    lbp_features.append(features)\n",
    "    \n",
    "print(\"LBP Feature extraction complete:\",len(lbp_features),\"images processed\")"
   ]
  },
  {
   "cell_type": "code",
   "execution_count": 28,
   "metadata": {},
   "outputs": [
    {
     "name": "stdout",
     "output_type": "stream",
     "text": [
      "X_train: 75 X_test: 25 normalised\n",
      "Y_train: 75 Y_test: 25 encoded\n"
     ]
    }
   ],
   "source": [
    "x = lbp_features\n",
    "y = df.iloc[:,-1].values\n",
    "x_train, x_test, y_train, y_test = divide_dataset(x, y)\n",
    "x_train, x_test = normalise_features(x_train, x_test)\n",
    "y_train, y_test, _ = encode_target(y_train, y_test)"
   ]
  },
  {
   "cell_type": "code",
   "execution_count": 29,
   "metadata": {},
   "outputs": [
    {
     "name": "stdout",
     "output_type": "stream",
     "text": [
      "KNN Model with euclidean metric is ready\n",
      "Predicted values:\n",
      "[1 1 0 1 1 0 0 0 0 1 0 1 0 0 0 0 0 0 1 0 0 0 0 0 1]\n",
      "Test values\n",
      "[1 0 1 0 0 0 1 0 0 0 0 0 0 1 1 1 1 1 1 1 1 0 1 0 1]\n",
      "The accuracy of the model is  40.0 %\n",
      "Confusion Matrix: [[ 7 10]\n",
      " [ 5  3]]\n",
      "Metrics\n",
      "              precision    recall  f1-score   support\n",
      "\n",
      "           0       0.41      0.58      0.48        12\n",
      "           1       0.38      0.23      0.29        13\n",
      "\n",
      "    accuracy                           0.40        25\n",
      "   macro avg       0.39      0.41      0.38        25\n",
      "weighted avg       0.39      0.40      0.38        25\n",
      "\n"
     ]
    }
   ],
   "source": [
    "model_E = KNN_model(x_train, y_train, \"euclidean\")\n",
    "test_model(model_E, x_test, y_test)"
   ]
  },
  {
   "cell_type": "code",
   "execution_count": 30,
   "metadata": {},
   "outputs": [
    {
     "name": "stdout",
     "output_type": "stream",
     "text": [
      "KNN Model with manhattan metric is ready\n",
      "Predicted values:\n",
      "[1 1 0 0 1 1 0 0 0 1 1 1 0 0 0 0 0 0 0 0 1 0 1 0 1]\n",
      "Test values\n",
      "[1 0 1 0 0 0 1 0 0 0 0 0 0 1 1 1 1 1 1 1 1 0 1 0 1]\n",
      "The accuracy of the model is  40.0 %\n",
      "Confusion Matrix: [[6 9]\n",
      " [6 4]]\n",
      "Metrics\n",
      "              precision    recall  f1-score   support\n",
      "\n",
      "           0       0.40      0.50      0.44        12\n",
      "           1       0.40      0.31      0.35        13\n",
      "\n",
      "    accuracy                           0.40        25\n",
      "   macro avg       0.40      0.40      0.40        25\n",
      "weighted avg       0.40      0.40      0.39        25\n",
      "\n"
     ]
    }
   ],
   "source": [
    "model_M = KNN_model(x_train, y_train, \"manhattan\")\n",
    "test_model(model_M, x_test, y_test)"
   ]
  },
  {
   "cell_type": "code",
   "execution_count": 31,
   "metadata": {},
   "outputs": [
    {
     "name": "stdout",
     "output_type": "stream",
     "text": [
      "KNN Model with minkowski metric is ready\n",
      "Predicted values:\n",
      "[1 1 0 1 1 0 0 0 0 1 0 1 0 0 0 0 0 0 1 0 0 0 0 0 1]\n",
      "Test values\n",
      "[1 0 1 0 0 0 1 0 0 0 0 0 0 1 1 1 1 1 1 1 1 0 1 0 1]\n",
      "The accuracy of the model is  40.0 %\n",
      "Confusion Matrix: [[ 7 10]\n",
      " [ 5  3]]\n",
      "Metrics\n",
      "              precision    recall  f1-score   support\n",
      "\n",
      "           0       0.41      0.58      0.48        12\n",
      "           1       0.38      0.23      0.29        13\n",
      "\n",
      "    accuracy                           0.40        25\n",
      "   macro avg       0.39      0.41      0.38        25\n",
      "weighted avg       0.39      0.40      0.38        25\n",
      "\n"
     ]
    }
   ],
   "source": [
    "model_H = KNN_model(x_train, y_train, \"minkowski\")\n",
    "test_model(model_H, x_test, y_test)"
   ]
  },
  {
   "cell_type": "code",
   "execution_count": 32,
   "metadata": {},
   "outputs": [
    {
     "name": "stdout",
     "output_type": "stream",
     "text": [
      "Completed: 100 / 100\n",
      "GLCM Feature extraction complete: 100 images processed\n"
     ]
    }
   ],
   "source": [
    "def compute_glcm(image, distance, angle):\n",
    "    rows, cols = image.shape\n",
    "    glcm = np.zeros((256, 256), dtype=np.float32)\n",
    "\n",
    "    dx = int(distance * np.cos(angle))\n",
    "    dy = int(distance * np.sin(angle))\n",
    "\n",
    "    for i in range(rows):\n",
    "        for j in range(cols):\n",
    "            pixel_val = image[i, j]\n",
    "\n",
    "            neighbor_i = i + dy\n",
    "            neighbor_j = j + dx\n",
    "\n",
    "            if 0 <= neighbor_i < rows and 0 <= neighbor_j < cols:\n",
    "                neighbor_val = image[neighbor_i, neighbor_j]\n",
    "                glcm[pixel_val, neighbor_val] += 1\n",
    "\n",
    "    glcm = glcm / glcm.sum()\n",
    "    \n",
    "    return glcm\n",
    "\n",
    "# Function to extract texture features from GLCM\n",
    "def extract_glcm_features(glcm):\n",
    "    contrast = np.sum(np.array([[i - j for j in range(256)] for i in range(256)])**2 * glcm)\n",
    "    dissimilarity = np.sum(np.abs(np.array([[i - j for j in range(256)] for i in range(256)]) * glcm))\n",
    "    homogeneity = np.sum(glcm / (1 + np.array([[i - j for j in range(256)] for i in range(256)])**2))\n",
    "    energy = np.sum(glcm**2)\n",
    "\n",
    "    mean_i, mean_j, std_i, std_j = calculate_mean_std(glcm)\n",
    "    \n",
    "    # Calculate correlation\n",
    "    correlation = 0\n",
    "    if std_i > 0 and std_j > 0:  # Avoid division by zero\n",
    "        correlation = np.sum((np.array([[i - mean_i for j in range(256)] for i in range(256)]) *\n",
    "                              np.array([[j - mean_j for j in range(256)] for i in range(256)]) * glcm)) / (std_i * std_j)\n",
    "    \n",
    "    ASM = np.sum(glcm**2)\n",
    "\n",
    "    return [contrast, dissimilarity, homogeneity, energy, correlation, ASM]\n",
    "\n",
    "# Function to calculate mean and std for correlation\n",
    "def calculate_mean_std(glcm):\n",
    "    levels = np.arange(256)\n",
    "    mean_i = np.sum(glcm.sum(axis=1) * levels)\n",
    "    mean_j = np.sum(glcm.sum(axis=0) * levels)\n",
    "    std_i = np.sqrt(np.sum(glcm.sum(axis=1) * (levels - mean_i)**2))\n",
    "    std_j = np.sqrt(np.sum(glcm.sum(axis=0) * (levels - mean_j)**2))\n",
    "    return mean_i, mean_j, std_i, std_j\n",
    "\n",
    "\n",
    "distances = [1, 2]\n",
    "angles = [0, np.pi/2]\n",
    "\n",
    "all_glcm_features = []\n",
    "\n",
    "count = 0\n",
    "\n",
    "for img in images:\n",
    "    image_features = []\n",
    "    gray_image = cv2.cvtColor(img.reshape(resized_img_height, resized_img_width,3), cv2.COLOR_BGR2GRAY)\n",
    "    glcm_image = np.zeros_like(gray_image)\n",
    "    for distance in distances:\n",
    "        for angle in angles:\n",
    "            glcm = compute_glcm(gray_image, distance, angle)\n",
    "            features = extract_glcm_features(glcm)\n",
    "            image_features.append(features)\n",
    "            \n",
    "    image_features = np.array(image_features).flatten()\n",
    "    all_glcm_features.append(image_features)\n",
    "    count+=1\n",
    "    print(\"Completed:\",count,\"/\",len(images),end=\"\\r\")\n",
    "\n",
    "print()   \n",
    "print(\"GLCM Feature extraction complete:\",str(len(all_glcm_features))+\" images processed\")"
   ]
  },
  {
   "cell_type": "code",
   "execution_count": 33,
   "metadata": {},
   "outputs": [
    {
     "name": "stdout",
     "output_type": "stream",
     "text": [
      "X_train: 75 X_test: 25 normalised\n",
      "Y_train: 75 Y_test: 25 encoded\n"
     ]
    }
   ],
   "source": [
    "x = all_glcm_features\n",
    "y = df.iloc[:,-1].values\n",
    "x_train, x_test, y_train, y_test = divide_dataset(x, y)\n",
    "x_train, x_test = normalise_features(x_train, x_test)\n",
    "y_train, y_test, _ = encode_target(y_train, y_test)"
   ]
  },
  {
   "cell_type": "code",
   "execution_count": 34,
   "metadata": {},
   "outputs": [
    {
     "name": "stdout",
     "output_type": "stream",
     "text": [
      "KNN Model with euclidean metric is ready\n",
      "Predicted values:\n",
      "[1 1 1 1 0 1 0 1 1 1 1 1 0 1 0 0 0 0 0 0 1 1 1 1 1]\n",
      "Test values\n",
      "[1 0 1 0 0 0 1 0 0 0 0 0 0 1 1 1 1 1 1 1 1 0 1 0 1]\n",
      "The accuracy of the model is  32.0 %\n",
      "Confusion Matrix: [[ 2  7]\n",
      " [10  6]]\n",
      "Metrics\n",
      "              precision    recall  f1-score   support\n",
      "\n",
      "           0       0.22      0.17      0.19        12\n",
      "           1       0.38      0.46      0.41        13\n",
      "\n",
      "    accuracy                           0.32        25\n",
      "   macro avg       0.30      0.31      0.30        25\n",
      "weighted avg       0.30      0.32      0.31        25\n",
      "\n"
     ]
    }
   ],
   "source": [
    "model = KNN_model(x_train, y_train, \"euclidean\")\n",
    "test_model(model, x_test, y_test)"
   ]
  },
  {
   "cell_type": "code",
   "execution_count": 35,
   "metadata": {},
   "outputs": [
    {
     "name": "stdout",
     "output_type": "stream",
     "text": [
      "KNN Model with manhattan metric is ready\n",
      "Predicted values:\n",
      "[0 1 1 1 0 1 0 0 1 1 1 1 0 1 0 0 0 0 0 0 1 0 1 0 1]\n",
      "Test values\n",
      "[1 0 1 0 0 0 1 0 0 0 0 0 0 1 1 1 1 1 1 1 1 0 1 0 1]\n",
      "The accuracy of the model is  40.0 %\n",
      "Confusion Matrix: [[5 8]\n",
      " [7 5]]\n",
      "Metrics\n",
      "              precision    recall  f1-score   support\n",
      "\n",
      "           0       0.38      0.42      0.40        12\n",
      "           1       0.42      0.38      0.40        13\n",
      "\n",
      "    accuracy                           0.40        25\n",
      "   macro avg       0.40      0.40      0.40        25\n",
      "weighted avg       0.40      0.40      0.40        25\n",
      "\n"
     ]
    }
   ],
   "source": [
    "model_M = KNN_model(x_train, y_train, \"manhattan\")\n",
    "test_model(model_M, x_test, y_test)"
   ]
  },
  {
   "cell_type": "code",
   "execution_count": 36,
   "metadata": {},
   "outputs": [
    {
     "name": "stdout",
     "output_type": "stream",
     "text": [
      "KNN Model with minkowski metric is ready\n",
      "Predicted values:\n",
      "[1 1 1 1 0 1 0 1 1 1 1 1 0 1 0 0 0 0 0 0 1 1 1 1 1]\n",
      "Test values\n",
      "[1 0 1 0 0 0 1 0 0 0 0 0 0 1 1 1 1 1 1 1 1 0 1 0 1]\n",
      "The accuracy of the model is  32.0 %\n",
      "Confusion Matrix: [[ 2  7]\n",
      " [10  6]]\n",
      "Metrics\n",
      "              precision    recall  f1-score   support\n",
      "\n",
      "           0       0.22      0.17      0.19        12\n",
      "           1       0.38      0.46      0.41        13\n",
      "\n",
      "    accuracy                           0.32        25\n",
      "   macro avg       0.30      0.31      0.30        25\n",
      "weighted avg       0.30      0.32      0.31        25\n",
      "\n"
     ]
    }
   ],
   "source": [
    "model_3 = KNN_model(x_train, y_train, \"minkowski\")\n",
    "test_model(model_3, x_test, y_test)"
   ]
  },
  {
   "cell_type": "code",
   "execution_count": 37,
   "metadata": {},
   "outputs": [
    {
     "name": "stdout",
     "output_type": "stream",
     "text": [
      "(100, 8100)\n",
      "X_train: 75 X_test: 25 normalised\n",
      "Y_train: 75 Y_test: 25 encoded\n"
     ]
    }
   ],
   "source": [
    "from skimage.feature import hog\n",
    "\n",
    "features = []\n",
    "\n",
    "for img in images:\n",
    "    img = img.reshape(resized_img_height,resized_img_width,3)\n",
    "    hog_features, _ = hog(img, orientations=9, pixels_per_cell=(8, 8), \n",
    "                              cells_per_block=(2, 2), visualize=True, channel_axis=-1)\n",
    "    features.append(hog_features.flatten())\n",
    "    \n",
    "features = np.array(features)\n",
    "print(features.shape)\n",
    "x = features\n",
    "y = df.iloc[:,-1].values\n",
    "x_train, x_test, y_train, y_test = divide_dataset(x, y)\n",
    "x_train, x_test = normalise_features(x_train, x_test)\n",
    "y_train, y_test, _ = encode_target(y_train, y_test)"
   ]
  },
  {
   "cell_type": "code",
   "execution_count": 38,
   "metadata": {},
   "outputs": [
    {
     "name": "stdout",
     "output_type": "stream",
     "text": [
      "KNN Model with euclidean metric is ready\n",
      "Predicted values:\n",
      "[0 1 1 1 0 0 1 0 1 0 0 1 0 0 0 1 0 0 0 0 0 0 0 1 0]\n",
      "Test values\n",
      "[1 0 1 0 0 0 1 0 0 0 0 0 0 1 1 1 1 1 1 1 1 0 1 0 1]\n",
      "The accuracy of the model is  40.0 %\n",
      "Confusion Matrix: [[ 7 10]\n",
      " [ 5  3]]\n",
      "Metrics\n",
      "              precision    recall  f1-score   support\n",
      "\n",
      "           0       0.41      0.58      0.48        12\n",
      "           1       0.38      0.23      0.29        13\n",
      "\n",
      "    accuracy                           0.40        25\n",
      "   macro avg       0.39      0.41      0.38        25\n",
      "weighted avg       0.39      0.40      0.38        25\n",
      "\n"
     ]
    }
   ],
   "source": [
    "\n",
    "model = KNN_model(x_train, y_train, \"euclidean\")\n",
    "test_model(model, x_test, y_test)"
   ]
  },
  {
   "cell_type": "code",
   "execution_count": 39,
   "metadata": {},
   "outputs": [
    {
     "name": "stdout",
     "output_type": "stream",
     "text": [
      "KNN Model with manhattan metric is ready\n",
      "Predicted values:\n",
      "[1 1 1 1 0 0 0 1 1 1 0 1 0 0 0 1 0 0 0 0 0 0 0 0 1]\n",
      "Test values\n",
      "[1 0 1 0 0 0 1 0 0 0 0 0 0 1 1 1 1 1 1 1 1 0 1 0 1]\n",
      "The accuracy of the model is  40.0 %\n",
      "Confusion Matrix: [[6 9]\n",
      " [6 4]]\n",
      "Metrics\n",
      "              precision    recall  f1-score   support\n",
      "\n",
      "           0       0.40      0.50      0.44        12\n",
      "           1       0.40      0.31      0.35        13\n",
      "\n",
      "    accuracy                           0.40        25\n",
      "   macro avg       0.40      0.40      0.40        25\n",
      "weighted avg       0.40      0.40      0.39        25\n",
      "\n"
     ]
    }
   ],
   "source": [
    "model = KNN_model(x_train, y_train, \"manhattan\")\n",
    "test_model(model, x_test, y_test)"
   ]
  },
  {
   "cell_type": "code",
   "execution_count": 40,
   "metadata": {},
   "outputs": [
    {
     "name": "stdout",
     "output_type": "stream",
     "text": [
      "KNN Model with minkowski metric is ready\n",
      "Predicted values:\n",
      "[0 1 1 1 0 0 1 0 1 0 0 1 0 0 0 1 0 0 0 0 0 0 0 1 0]\n",
      "Test values\n",
      "[1 0 1 0 0 0 1 0 0 0 0 0 0 1 1 1 1 1 1 1 1 0 1 0 1]\n",
      "The accuracy of the model is  40.0 %\n",
      "Confusion Matrix: [[ 7 10]\n",
      " [ 5  3]]\n",
      "Metrics\n",
      "              precision    recall  f1-score   support\n",
      "\n",
      "           0       0.41      0.58      0.48        12\n",
      "           1       0.38      0.23      0.29        13\n",
      "\n",
      "    accuracy                           0.40        25\n",
      "   macro avg       0.39      0.41      0.38        25\n",
      "weighted avg       0.39      0.40      0.38        25\n",
      "\n"
     ]
    }
   ],
   "source": [
    "model = KNN_model(x_train, y_train, \"minkowski\")\n",
    "test_model(model, x_test, y_test)"
   ]
  },
  {
   "cell_type": "code",
   "execution_count": null,
   "metadata": {},
   "outputs": [],
   "source": []
  }
 ],
 "metadata": {
  "kernelspec": {
   "display_name": "Python 3",
   "language": "python",
   "name": "python3"
  },
  "language_info": {
   "codemirror_mode": {
    "name": "ipython",
    "version": 3
   },
   "file_extension": ".py",
   "mimetype": "text/x-python",
   "name": "python",
   "nbconvert_exporter": "python",
   "pygments_lexer": "ipython3",
   "version": "3.11.4"
  }
 },
 "nbformat": 4,
 "nbformat_minor": 2
}
